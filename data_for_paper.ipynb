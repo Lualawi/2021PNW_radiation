{
 "cells": [
  {
   "cell_type": "markdown",
   "id": "01e58ddc",
   "metadata": {},
   "source": [
    "# Data (+Stats) for Paper"
   ]
  },
  {
   "cell_type": "code",
   "execution_count": 1,
   "id": "71e62667",
   "metadata": {},
   "outputs": [],
   "source": [
    "#import libraries\n",
    "import pandas as pd\n",
    "import numpy as np\n",
    "import netCDF4\n",
    "import xarray as xr\n",
    "\n",
    "import matplotlib\n",
    "import matplotlib.pyplot as plt\n",
    "import matplotlib.gridspec as gridspec\n",
    "\n",
    "import scipy\n",
    "import scipy.stats\n",
    "from scipy import signal\n",
    "from scipy.signal import butter, lfilter, sosfilt\n",
    "\n",
    "import cartopy\n",
    "import cartopy.crs as ccrs\n",
    "from cartopy.util import add_cyclic_point\n",
    "import cartopy.feature as cfeature\n",
    "\n",
    "import seaborn as sns"
   ]
  },
  {
   "cell_type": "code",
   "execution_count": 2,
   "id": "d2c5f0bd",
   "metadata": {},
   "outputs": [],
   "source": [
    "#set up for wrf and era\n",
    "variables_wrf = ['T2', 'SWDNT']\n",
    "variables_era = ['mx2t']\n",
    "variables_era_gph = ['z']\n",
    "variables_wrf_gph = ['gph', 'temp']\n",
    "temperature_variables_era = [\"t2m\"]"
   ]
  },
  {
   "cell_type": "markdown",
   "id": "5c75f1f2",
   "metadata": {},
   "source": [
    "### Grab Data"
   ]
  },
  {
   "cell_type": "code",
   "execution_count": 3,
   "id": "e846a3fb",
   "metadata": {
    "code_folding": []
   },
   "outputs": [],
   "source": [
    "#time indices\n",
    "indices = np.arange(57,153+1)\n",
    "\n",
    "#ERA for records\n",
    "with xr.open_dataset(\"/scratch/rwhite/ladmasu/insol/era5_t2m_hourly_1940-2021_PNW_JJA.nc\") as era_reg:\n",
    "    era_dailymax = era_reg.resample(time = \"1D\").max()\n",
    "    #find daily maximum and find the 2021 event in era5\n",
    "    era_daily_max_PNW = era_dailymax.sel(latitude = slice(40,65), longitude = slice(-140,-100), \n",
    "                       time = slice(\"1940-01-01T00:00:00.000000000\", \"2021-06-01T00:00:00.000000000\")).t2m.max(dim = \"time\")\n",
    "    era_test_hw = era_dailymax.sel(latitude = slice(40,65), longitude = slice(-140, -100), \n",
    "                       time = slice(\"2021-06-26T00:00:00.000000000\", \"2021-06-30T00:00:00.000000000\")).t2m.max(dim = \"time\")"
   ]
  },
  {
   "cell_type": "code",
   "execution_count": 4,
   "id": "ad0ba24a",
   "metadata": {
    "code_folding": [
     15
    ]
   },
   "outputs": [],
   "source": [
    "##### MAIN WRF RUNS (REGRIDDED FOR RECORDS) #####\n",
    "with xr.open_dataset(\"/scratch/rwhite/ladmasu/insol/new_dat/BIAS_FIXED/rrtmg_radiation/june_d02_timemerge_rrtmg_regridera2d.nc\") as june_2d:\n",
    "    weights = np.cos(np.deg2rad(june_2d.sel(latitude = slice(65,40)).latitude))\n",
    "    weighted_weights = weights/np.mean(weights)\n",
    "    \n",
    "    #grab june data for maps and timeseries\n",
    "    june2d_bc = june_2d.sel(latitude = slice(65,40), longitude = slice(-140, -100), XTIME = june_2d.XTIME[indices])\n",
    "    \n",
    "    june2d_bcw = june2d_bc.groupby('latitude')*weighted_weights\n",
    "    junedata_weighted = june2d_bcw.mean(dim = ['latitude', 'longitude']).T2\n",
    "    \n",
    "with xr.open_dataset(\"/scratch/rwhite/ladmasu/insol/new_dat/BIAS_FIXED/rrtmg_radiation/jul_d02_timemerge_rrtmg_regridera2d.nc\") as july_2d:\n",
    "    #grab july data for maps and timeseries\n",
    "    july2d_bc = july_2d.sel(latitude = slice(65,40), longitude = slice(-140, -100), XTIME = july_2d.XTIME[indices])\n",
    "    \n",
    "    july2d_bcw = july2d_bc.groupby('latitude')*weighted_weights\n",
    "    julydata_weighted = july2d_bcw.mean(dim = ['latitude', 'longitude']).T2\n",
    "\n",
    "with xr.open_dataset(\"/scratch/rwhite/ladmasu/insol/new_dat/BIAS_FIXED/rrtmg_radiation/aug_d02_timemerge_rrtmg_regridera2d.nc\") as aug_2d:\n",
    "    #grab june data for maps and timeseries\n",
    "    aug2d_bc = aug_2d.sel(latitude = slice(65,40), longitude = slice(-140, -100), XTIME = aug_2d.XTIME[indices])\n",
    "    aug2d_bcw = aug2d_bc.groupby('latitude')*weighted_weights\n",
    "    augdata_weighted = aug2d_bcw.mean(dim = ['latitude', 'longitude']).T2"
   ]
  },
  {
   "cell_type": "code",
   "execution_count": 24,
   "id": "44d4eca4",
   "metadata": {
    "code_folding": [
     15,
     25
    ]
   },
   "outputs": [],
   "source": [
    "#DATA FOR SENSITIVITY STUDIES\n",
    "#Initialisation Date\n",
    "with xr.open_dataset('/scratch/rwhite/ladmasu/insol/sensitivity/june_minus2_d02_timemerge_regridera2d.nc') as june_minus2:\n",
    "    june_minus2 = june_minus2.sel(latitude = slice(65,40), longitude = slice(-140, -100), XTIME = june_minus2.XTIME[indices+48])\n",
    "    june_minus2w = june_minus2.groupby(\"latitude\")*weighted_weights\n",
    "    june_minus2T = june_minus2w.mean(dim = ['latitude', 'longitude']).T2\n",
    "    june_minus2T_map = june_minus2w.mean(dim = \"XTIME\").T2\n",
    "    \n",
    "with xr.open_dataset('/scratch/rwhite/ladmasu/insol/sensitivity/aug_minus2_d02_timemerge_regridera2d.nc') as aug_minus2:\n",
    "    aug_minus2 = aug_minus2.sel(latitude = slice(65,40), longitude = slice(-140, -100), XTIME = aug_minus2.XTIME[indices+48])\n",
    "    aug_minus2w = aug_minus2.groupby(\"latitude\")*weighted_weights\n",
    "    aug_minus2T = aug_minus2w.mean(dim = ['latitude', 'longitude']).T2\n",
    "    aug_minus2T_map = aug_minus2w.mean(dim = \"XTIME\").T2\n",
    "\n",
    "#CAM    \n",
    "with xr.open_dataset(\"/scratch/rwhite/ladmasu/insol/new_dat/BIAS_FIXED/cam_radiation/june_d02_timemerge_cam_regridera.nc\") as june_cam:\n",
    "    june_cam = june_cam.sel(latitude = slice(65,40), longitude = slice(-140, -100), XTIME = june_cam.XTIME[indices])\n",
    "    june_camw = june_cam.groupby(\"latitude\")*weighted_weights\n",
    "    june_camT = june_camw.mean(dim = ['latitude', 'longitude']).T2\n",
    "    june_camT_map = june_camw.mean(dim = \"XTIME\").T2\n",
    "    \n",
    "with xr.open_dataset(\"/scratch/rwhite/ladmasu/insol/new_dat/BIAS_FIXED/cam_radiation/aug_d02_timemerge_cam_regridera.nc\") as aug_cam:\n",
    "    aug_cam = aug_cam.sel(latitude = slice(65,40), longitude = slice(-140, -100), XTIME = aug_cam.XTIME[indices])\n",
    "    aug_camw = aug_cam.groupby(\"latitude\")*weighted_weights\n",
    "    aug_camT = aug_camw.mean(dim = ['latitude', 'longitude']).T2\n",
    "    aug_camT_map = aug_camw.mean(dim = \"XTIME\").T2\n",
    "    \n",
    "#NOAH LSM\n",
    "with xr.open_dataset(\"/scratch/rwhite/ladmasu/insol/sensitivity/june_oldNOAHLSM-rrtmg_d02_timemerge_regridera2d.nc\") as june_lsm:\n",
    "    june_lsm = june_lsm.sel(latitude = slice(65,40), longitude = slice(-140, -100), XTIME = june_lsm.XTIME[indices])\n",
    "    june_lsmw = june_lsm.groupby(\"latitude\")*weighted_weights\n",
    "    june_lsmT = june_lsmw.mean(dim = ['latitude', 'longitude']).T2\n",
    "    june_lsmT_map = june_lsmw.mean(dim = \"XTIME\").T2\n",
    "    \n",
    "with xr.open_dataset(\"/scratch/rwhite/ladmasu/insol/sensitivity/aug_oldNOAHLSM-rrtmg_d02_timemerge_regridera2d.nc\") as aug_lsm:\n",
    "    aug_lsm = aug_lsm.sel(latitude = slice(65,40), longitude = slice(-140, -100), XTIME = aug_lsm.XTIME[indices])\n",
    "    aug_lsmw = aug_lsm.groupby(\"latitude\")*weighted_weights\n",
    "    aug_lsmT = aug_lsmw.mean(dim = ['latitude', 'longitude']).T2\n",
    "    aug_lsmT_map = aug_lsmw.mean(dim = \"XTIME\").T2\n",
    "\n",
    "# #3D DATA\n",
    "june = xr.open_dataset('/scratch/rwhite/ladmasu/insol/new_dat/BIAS_FIXED/rrtmg_radiation/june_d02_reproj_rrtmg_regrid_3d.nc')\n",
    "july = xr.open_dataset('/scratch/rwhite/ladmasu/insol/new_dat/BIAS_FIXED/rrtmg_radiation/july_d02_reproj_rrtmg_regrid_3d.nc')\n",
    "aug = xr.open_dataset('/scratch/rwhite/ladmasu/insol/new_dat/BIAS_FIXED/rrtmg_radiation/aug_d02_reproj_rrtmg_regrid_3d.nc')\n",
    "\n",
    "sens_3d = xr.open_dataset('/scratch/rwhite/ladmasu/insol/new_dat/BIAS_FIXED/cam_radiation/june_d02_reproj_cam_regrid_3d.nc')\n",
    "\n",
    "#mask for records\n",
    "mask_file = xr.open_dataset('/scratch/rwhite/ladmasu/insol/better_mask_regrid.nc')\n",
    "mask = (mask_file/mask_file).sel(latitude = slice(40,65), longitude = slice(-140, -100)).mean(dim = \"time\").t2m"
   ]
  },
  {
   "cell_type": "code",
   "execution_count": 25,
   "id": "b05df2b4",
   "metadata": {
    "code_folding": []
   },
   "outputs": [],
   "source": [
    "#functions\n",
    "def records_area(records_broken, model_june, model, threshold, area_path, land_ocean_mask):\n",
    "    area_dat = xr.open_dataset(area_path)\n",
    "    area = area_dat.cell_area.sel(latitude = slice(65,40), longitude = slice(-140,-100)) #find PNW\n",
    "    mask = land_ocean_mask\n",
    "    #find area\n",
    "    records = records_broken - (model_june-model)\n",
    "    records_land = mask.values*records.copy()\n",
    "    #make normalised map of places (not ocean) where records were broken\n",
    "    plot = records_land/records_land\n",
    "    #calcualte area where records were broken\n",
    "    area_rev = area.reindex(latitude=list(reversed(area.latitude)))\n",
    "    area_above_threshold = area_rev.where(records_land>threshold,0).sum()/1000**2 #in km^2\n",
    "    return(area_above_threshold, plot)\n",
    "\n",
    "def mean_temperature(data):\n",
    "    \"\"\"find latitude weighted mean average temperature of data over the heatwave box\"\"\"\n",
    "    weights = np.cos(np.deg2rad(data.sel(latitude = slice(52,45)).latitude))/np.mean(np.cos(np.deg2rad(data.sel(latitude = slice(52,45)).latitude)))\n",
    "    dataw = data.sel(latitude = slice(52,45), longitude = slice(-123,-119)).T2.groupby(\"latitude\")*weights\n",
    "    data_mean = dataw.mean(dim = [\"longitude\", \"latitude\", \"XTIME\"]) - 273.15\n",
    "    return data_mean\n",
    "\n",
    "def max_temperature(data):\n",
    "    \"\"\"finds the latitude weighted mean of maximum temperature map over heatwave box\"\"\"\n",
    "    weights = np.cos(np.deg2rad(data.sel(latitude = slice(52,45)).latitude))/np.mean(np.cos(np.deg2rad(data.sel(latitude = slice(52,45)).latitude)))\n",
    "    dataw = data.sel(latitude = slice(52,45), longitude = slice(-123,-119)).T2.groupby(\"latitude\")*weights\n",
    "    data_max = dataw.max(dim = \"XTIME\")\n",
    "    data_mean = data_max.mean(dim = [\"longitude\", \"latitude\"]) - 273.15\n",
    "    return data_mean\n",
    "\n",
    "def mean_radiation(data):\n",
    "    \"\"\"finds the latitude weighted mean average radiation over the heatwave box\"\"\"\n",
    "    weights = np.cos(np.deg2rad(data.sel(latitude = slice(52,45)).latitude))/np.mean(np.cos(np.deg2rad(data.sel(latitude = slice(52,45)).latitude)))\n",
    "    dataw = data.sel(latitude = slice(52,45), longitude = slice(-123,-119)).SWDNB.groupby(\"latitude\")*weights\n",
    "    data_mean = dataw.mean(dim = [\"longitude\", \"latitude\", \"XTIME\"])\n",
    "    return data_mean"
   ]
  },
  {
   "cell_type": "markdown",
   "id": "040eec00",
   "metadata": {},
   "source": [
    "### Temperatures (Max and Mean)"
   ]
  },
  {
   "cell_type": "code",
   "execution_count": 42,
   "id": "e8c5688b",
   "metadata": {},
   "outputs": [
    {
     "name": "stdout",
     "output_type": "stream",
     "text": [
      "MEAN TEMP: Control: 27.2634, +30day: 25.9555, +60day: 22.8239\n",
      "MAX TEMP: Control: 39.7809, +30day: 38.2706, +60day: 34.9148\n",
      "MEAN TEMP FOR CONTROL: CAM: 29.4019, NOAH MP: 27.1546, -2day: 26.0753\n",
      "MEAN TEMP 60day: CAM: 24.8874, NOAH MP: 22.8166, -2day JUNE: 22.2243\n"
     ]
    }
   ],
   "source": [
    "## Main Runs\n",
    "#mean temperature\n",
    "june_meanT = mean_temperature(june_2d)\n",
    "july_meanT = mean_temperature(july_2d)\n",
    "aug_meanT = mean_temperature(aug_2d)\n",
    "print(f'MEAN TEMP: Control: {round(float(june_meanT.values),4)}, +30day: {round(float(july_meanT.values),4)}, +60day: {round(float(aug_meanT.values),4)}')\n",
    "\n",
    "#maximum temperature\n",
    "june_maxT = max_temperature(june_2d)\n",
    "july_maxT = max_temperature(july_2d)\n",
    "aug_maxT = max_temperature(aug_2d)\n",
    "print(f'MAX TEMP: Control: {round(float(june_maxT.values),4)}, +30day: {round(float(july_maxT.values),4)}, +60day: {round(float(aug_maxT.values),4)}')\n",
    "\n",
    "## Sensitivity Runs\n",
    "cam_meanT_june = mean_temperature(june_cam)\n",
    "noah_meanT_june = mean_temperature(june_lsm)\n",
    "minus2_meanT_june = mean_temperature(june_minus2)\n",
    "print(f'MEAN TEMP FOR CONTROL: CAM: {round(float(cam_meanT_june.values),4)}, NOAH MP: {round(float(noah_meanT_june.values),4)}, -2day: {round(float(minus2_meanT_june.values),4)}')\n",
    "\n",
    "cam_meanT_aug = mean_temperature(aug_cam)\n",
    "noah_meanT_aug = mean_temperature(aug_lsm)\n",
    "minus2_meanT_aug = mean_temperature(aug_minus2)\n",
    "print(f'MEAN TEMP 60day: CAM: {round(float(cam_meanT_aug.values),4)}, NOAH MP: {round(float(noah_meanT_aug.values),4)}, -2day JUNE: {round(float(minus2_meanT_aug.values),4)}')"
   ]
  },
  {
   "cell_type": "markdown",
   "id": "a9592c12",
   "metadata": {},
   "source": [
    "### Radiation"
   ]
  },
  {
   "cell_type": "code",
   "execution_count": 27,
   "id": "92c3a516",
   "metadata": {},
   "outputs": [
    {
     "name": "stdout",
     "output_type": "stream",
     "text": [
      "MEAN RADIATION: Control: 364.5845, +30day: 324.1532, +60day: 269.5092\n"
     ]
    }
   ],
   "source": [
    "june_meanRad = mean_radiation(june_2d)\n",
    "july_meanRad = mean_radiation(july_2d)\n",
    "aug_meanRad = mean_radiation(aug_2d)\n",
    "print(f'MEAN RADIATION: Control: {round(float(june_meanRad.values),4)}, +30day: {round(float(july_meanRad.values),4)}, +60day: {round(float(aug_meanRad.values),4)}')"
   ]
  },
  {
   "cell_type": "code",
   "execution_count": 18,
   "id": "12e4442a",
   "metadata": {},
   "outputs": [],
   "source": [
    "## find maximum radiation differences\n",
    "june_rad = june2d_bc.sel(latitude = slice(52,45), longitude = slice(-123,-119)).SWDNB.groupby('latitude')*weighted_weights\n",
    "july_rad = july2d_bc.sel(latitude = slice(52,45), longitude = slice(-123,-119)).SWDNB.groupby('latitude')*weighted_weights\n",
    "aug_rad = aug2d_bc.sel(latitude = slice(52,45), longitude = slice(-123,-119)).SWDNB.groupby('latitude')*weighted_weights\n",
    "\n",
    "july_raddiff = (june_rad - july_rad).mean(dim = ['latitude', 'longitude'])\n",
    "aug_raddiff = (june_rad - aug_rad).mean(dim = ['latitude', 'longitude'])\n",
    "\n",
    "# julyrad_diffmax = july_raddiff.max()\n",
    "# augrad_diffmax = aug_raddfiff.max()"
   ]
  },
  {
   "cell_type": "markdown",
   "id": "8f76b263",
   "metadata": {},
   "source": [
    "## Records"
   ]
  },
  {
   "cell_type": "code",
   "execution_count": 28,
   "id": "97472dfb",
   "metadata": {},
   "outputs": [
    {
     "name": "stdout",
     "output_type": "stream",
     "text": [
      "TOTAL RECORD EXCEEDANCE: Control: 1792784.7124, +30day: 1349456.1985, +60day: 340980.3933\n",
      "TOTAL RECORD EXCEEDANCE: Control: 595011.8474, +30day: 322113.5234, +60day: 28962.5875\n"
     ]
    }
   ],
   "source": [
    "##Main Runs\n",
    "records_broken = (era_test_hw - era_daily_max_PNW)\n",
    "\n",
    "#find maximum temperature at each gridpoint\n",
    "june_max = june2d_bc.max(dim = 'XTIME').T2\n",
    "july_max = july2d_bc.max(dim = 'XTIME').T2\n",
    "aug_max = aug2d_bc.max(dim = 'XTIME').T2\n",
    "#(any record exceedance)\n",
    "june_area0, june_mask2 = records_area(records_broken, june_max, june_max, 0,'/scratch/rwhite/ladmasu/insol/area_gridera.nc', mask)\n",
    "july_area0 ,july_mask2= records_area(records_broken, june_max, july_max, 0,'/scratch/rwhite/ladmasu/insol/area_gridera.nc', mask)\n",
    "aug_area0, aug_mask2 = records_area(records_broken, june_max, aug_max, 0,'/scratch/rwhite/ladmasu/insol/area_gridera.nc', mask)\n",
    "print(f'TOTAL RECORD EXCEEDANCE: Control: {round(float(june_area0.values),4)}, +30day: {round(float(july_area0.values),4)}, +60day: {round(float(aug_area0.values),4)}')\n",
    "#3 degree record exceedance\n",
    "#(any record exceedance)\n",
    "june_area3, june_mask2 = records_area(records_broken, june_max, june_max, 3,'/scratch/rwhite/ladmasu/insol/area_gridera.nc', mask)\n",
    "july_area3 ,july_mask2= records_area(records_broken, june_max, july_max, 3,'/scratch/rwhite/ladmasu/insol/area_gridera.nc', mask)\n",
    "aug_area3, aug_mask2 = records_area(records_broken, june_max, aug_max, 3,'/scratch/rwhite/ladmasu/insol/area_gridera.nc', mask)\n",
    "\n",
    "print(f'TOTAL RECORD EXCEEDANCE: Control: {round(float(june_area3.values),4)}, +30day: {round(float(july_area3.values),4)}, +60day: {round(float(aug_area3.values),4)}')"
   ]
  },
  {
   "cell_type": "code",
   "execution_count": 39,
   "id": "275bbf34",
   "metadata": {},
   "outputs": [
    {
     "name": "stdout",
     "output_type": "stream",
     "text": [
      "TOTAL RECORD EXCEEDANCE: Minus 2: 308970.833, CAM: 332536.7748, NOAH: 271464.9277\n"
     ]
    }
   ],
   "source": [
    "##sensitivity studies\n",
    "june_minus2_max = june_minus2.max(dim = \"XTIME\").T2\n",
    "june_cam_max = june_cam.max(dim = \"XTIME\").T2\n",
    "june_lsm_max = june_lsm.max(dim = \"XTIME\").T2\n",
    "\n",
    "aug_minus2_max = aug_minus2.max(dim = \"XTIME\").T2\n",
    "aug_cam_max = aug_cam.max(dim = \"XTIME\").T2\n",
    "aug_lsm_max = aug_lsm.max(dim = \"XTIME\").T2\n",
    "\n",
    "#(any record exceedance)\n",
    "minus2_area0, a = records_area(records_broken, june_minus2_max, aug_minus2_max, 0,'/scratch/rwhite/ladmasu/insol/area_gridera.nc', mask)\n",
    "cam_area0 ,b= records_area(records_broken, june_cam_max, aug_cam_max, 0,'/scratch/rwhite/ladmasu/insol/area_gridera.nc', mask)\n",
    "lsm_area0, c = records_area(records_broken, june_lsm_max, aug_lsm_max, 0,'/scratch/rwhite/ladmasu/insol/area_gridera.nc', mask)\n",
    "\n",
    "print(f'TOTAL RECORD EXCEEDANCE: Minus 2: {round(float(minus2_area0.values),4)}, CAM: {round(float(cam_area0.values),4)}, NOAH: {round(float(lsm_area0.values),4)}')"
   ]
  },
  {
   "cell_type": "markdown",
   "id": "f6fd20b8",
   "metadata": {},
   "source": [
    "### GPH comparison (CTRL and CAM Rad)"
   ]
  },
  {
   "cell_type": "code",
   "execution_count": 12,
   "id": "632b1807",
   "metadata": {},
   "outputs": [],
   "source": [
    "rrtmg_gph = june.sel(lat = slice(45,52), lon = slice(-123,-119), Time = june.Time[indices], level = 500).gph\n",
    "cam_gph = sens_3d.sel(lat = slice(45,52), lon = slice(-123,-119), Time = june.Time[indices], level = 500).gph\n",
    "diff_sensgph = rrtmg_gph.mean(dim = \"Time\") - cam_gph.mean(dim = \"Time\")\n",
    "\n",
    "july_gph = july.sel(lat = slice(45,52), lon = slice(-123,-119), Time = july.Time[indices], level = 500).gph\n",
    "diff_months = rrtmg_gph.mean(dim = \"Time\") - july_gph.mean(dim = \"Time\")"
   ]
  },
  {
   "cell_type": "code",
   "execution_count": null,
   "id": "133f1199",
   "metadata": {},
   "outputs": [],
   "source": []
  }
 ],
 "metadata": {
  "kernelspec": {
   "display_name": "Python 3 (ipykernel)",
   "language": "python",
   "name": "python3"
  },
  "language_info": {
   "codemirror_mode": {
    "name": "ipython",
    "version": 3
   },
   "file_extension": ".py",
   "mimetype": "text/x-python",
   "name": "python",
   "nbconvert_exporter": "python",
   "pygments_lexer": "ipython3",
   "version": "3.9.15"
  }
 },
 "nbformat": 4,
 "nbformat_minor": 5
}
