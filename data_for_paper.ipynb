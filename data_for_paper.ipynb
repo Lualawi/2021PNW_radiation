{
 "cells": [
  {
   "cell_type": "markdown",
   "id": "01e58ddc",
   "metadata": {},
   "source": [
    "# Data (+Stats) for Paper"
   ]
  },
  {
   "cell_type": "code",
   "execution_count": 1,
   "id": "71e62667",
   "metadata": {
    "ExecuteTime": {
     "end_time": "2025-10-02T00:12:48.995598Z",
     "start_time": "2025-10-02T00:12:41.913313Z"
    }
   },
   "outputs": [],
   "source": [
    "#import libraries\n",
    "import pandas as pd\n",
    "import numpy as np\n",
    "#import netCDF4\n",
    "import xarray as xr\n",
    "\n",
    "# import matplotlib\n",
    "# import matplotlib.pyplot as plt\n",
    "# import matplotlib.gridspec as gridspec\n",
    "\n",
    "# import scipy\n",
    "# import scipy.stats\n",
    "# from scipy import signal\n",
    "# from scipy.signal import butter, lfilter, sosfilt\n",
    "\n",
    "# import cartopy\n",
    "# import cartopy.crs as ccrs\n",
    "# from cartopy.util import add_cyclic_point\n",
    "# import cartopy.feature as cfeature\n",
    "\n",
    "# import seaborn as sns"
   ]
  },
  {
   "cell_type": "code",
   "execution_count": 2,
   "id": "d2c5f0bd",
   "metadata": {
    "ExecuteTime": {
     "end_time": "2025-10-02T00:12:49.018855Z",
     "start_time": "2025-10-02T00:12:49.008961Z"
    }
   },
   "outputs": [],
   "source": [
    "#set up for wrf and era\n",
    "variables_wrf = ['T2', 'SWDNT']\n",
    "variables_era = ['mx2t']\n",
    "variables_era_gph = ['z']\n",
    "variables_wrf_gph = ['gph', 'temp']\n",
    "temperature_variables_era = [\"t2m\"]"
   ]
  },
  {
   "cell_type": "code",
   "execution_count": 3,
   "id": "71e1321a",
   "metadata": {
    "ExecuteTime": {
     "end_time": "2025-10-02T00:12:57.232810Z",
     "start_time": "2025-10-02T00:12:57.213718Z"
    }
   },
   "outputs": [],
   "source": [
    "#functions\n",
    "def records_area(records_broken, model_june, model, threshold, area_path, land_ocean_mask,lat1,lat2,lon1,lon2):\n",
    "    area_dat = xr.open_dataset(area_path)\n",
    "    area = area_dat.cell_area.sel(latitude = slice(lat2,lat1), longitude = slice(lon1,lon2)) #find PNW\n",
    "    mask = land_ocean_mask.sel(latitude = slice(lat1,lat2), longitude = slice(lon1,lon2)) #find PNW\n",
    "    #find area\n",
    "    records = (records_broken - (model_june-model)).sel(latitude = slice(lat1,lat2), longitude = slice(lon1,lon2)) #find PNW.values\n",
    "    records_land = mask.values*records.copy()\n",
    "    #make normalised map of places (not ocean) where records were broken\n",
    "    plot = records_land/records_land\n",
    "    #calcualte area where records were broken\n",
    "    area_rev = area.reindex(latitude=list(reversed(area.latitude)))\n",
    "    area_above_threshold = area_rev.where(records_land>threshold,0).sum()/(1000**2) #in km^2\n",
    "    return(area_above_threshold, plot)"
   ]
  },
  {
   "cell_type": "markdown",
   "id": "5c75f1f2",
   "metadata": {
    "heading_collapsed": true
   },
   "source": [
    "### Load Data"
   ]
  },
  {
   "cell_type": "code",
   "execution_count": 3,
   "id": "e846a3fb",
   "metadata": {
    "ExecuteTime": {
     "end_time": "2025-09-27T23:34:20.269442Z",
     "start_time": "2025-09-27T23:17:57.022894Z"
    },
    "code_folding": [],
    "hidden": true
   },
   "outputs": [],
   "source": [
    "#time indices\n",
    "indices = np.arange(57,153+1)\n",
    "filepath = '/scratch/st-rwhite01-1/lualawi/insol/insol/'\n",
    "#ERA for records\n",
    "with xr.open_dataset(filepath+\"era5_t2m_hourly_1940-2021_PNW_JJA.nc\") as era_reg:\n",
    "    era_dailymax = era_reg.resample(time = \"1D\").max()\n",
    "    #find daily maximum and find the 2021 event in era5\n",
    "    era_daily_max_PNW = era_dailymax.sel(latitude = slice(40,65), longitude = slice(-140,-100), \n",
    "                       time = slice(\"1940-01-01T00:00:00.000000000\", \"2021-06-01T00:00:00.000000000\")).t2m.max(dim = \"time\")\n",
    "    era_test_hw = era_dailymax.sel(latitude = slice(40,65), longitude = slice(-140, -100), \n",
    "                       time = slice(\"2021-06-26T00:00:00.000000000\", \"2021-06-30T00:00:00.000000000\")).t2m.max(dim = \"time\")"
   ]
  },
  {
   "cell_type": "code",
   "execution_count": 97,
   "id": "ad0ba24a",
   "metadata": {
    "ExecuteTime": {
     "end_time": "2025-09-30T23:17:13.865263Z",
     "start_time": "2025-09-30T23:05:41.267613Z"
    },
    "code_folding": [
     0
    ],
    "hidden": true
   },
   "outputs": [],
   "source": [
    "##### MAIN WRF RUNS (REGRIDDED FOR RECORDS) #####\n",
    "with xr.open_dataset(filepath+\"new_dat/BIAS_FIXED/rrtmg_radiation/june_d02_timemerge_rrtmg_regridera2d.nc\") as june_2d:\n",
    "    weights = np.cos(np.deg2rad(june_2d.sel(latitude = slice(65,40)).latitude))\n",
    "    weighted_weights = weights/np.mean(weights)\n",
    "    \n",
    "    #grab june data for maps and timeseries\n",
    "    june2d_bc = june_2d.sel(latitude = slice(65,40), longitude = slice(-140, -100), XTIME = june_2d.XTIME[indices])\n",
    "    \n",
    "    june2d_bcw = june2d_bc.groupby('latitude')*weighted_weights\n",
    "    junedata_weighted = june2d_bcw.mean(dim = ['latitude', 'longitude']).T2\n",
    "    \n",
    "with xr.open_dataset(filepath+\"new_dat/BIAS_FIXED/rrtmg_radiation/jul_d02_timemerge_rrtmg_regridera2d.nc\") as july_2d:\n",
    "    #grab july data for maps and timeseries\n",
    "    july2d_bc = july_2d.sel(latitude = slice(65,40), longitude = slice(-140, -100), XTIME = july_2d.XTIME[indices])\n",
    "    \n",
    "    july2d_bcw = july2d_bc.groupby('latitude')*weighted_weights\n",
    "    julydata_weighted = july2d_bcw.mean(dim = ['latitude', 'longitude']).T2\n",
    "\n",
    "with xr.open_dataset(filepath+\"new_dat/BIAS_FIXED/rrtmg_radiation/aug_d02_timemerge_rrtmg_regridera2d.nc\") as aug_2d:\n",
    "    #grab june data for maps and timeseries\n",
    "    aug2d_bc = aug_2d.sel(latitude = slice(65,40), longitude = slice(-140, -100), XTIME = aug_2d.XTIME[indices])\n",
    "    aug2d_bcw = aug2d_bc.groupby('latitude')*weighted_weights\n",
    "    augdata_weighted = aug2d_bcw.mean(dim = ['latitude', 'longitude']).T2"
   ]
  },
  {
   "cell_type": "code",
   "execution_count": 69,
   "id": "f008b582",
   "metadata": {
    "ExecuteTime": {
     "end_time": "2025-09-28T04:38:54.015826Z",
     "start_time": "2025-09-28T04:38:53.958205Z"
    },
    "hidden": true
   },
   "outputs": [],
   "source": [
    "#mask for records\n",
    "mask_file = xr.open_dataset(filepath+'better_mask_regrid.nc')\n",
    "mask = (mask_file/mask_file).sel(latitude = slice(40,65), longitude = slice(-140, -100)).mean(dim = \"time\").t2m"
   ]
  },
  {
   "cell_type": "code",
   "execution_count": 10,
   "id": "44d4eca4",
   "metadata": {
    "ExecuteTime": {
     "end_time": "2025-09-28T04:08:31.443201Z",
     "start_time": "2025-09-28T04:08:10.899639Z"
    },
    "code_folding": [
     0
    ],
    "hidden": true
   },
   "outputs": [],
   "source": [
    "#DATA FOR SENSITIVITY STUDIES\n",
    "#Initialisation Date\n",
    "with xr.open_dataset(filepath+'sensitivity/june_minus2_d02_timemerge_regridera2d.nc') as june_minus2:\n",
    "    june_minus2T = june_minus2.sel(latitude = slice(65,40), longitude = slice(-140, -100), XTIME = june_minus2.XTIME[indices+48]).T2\n",
    "    \n",
    "with xr.open_dataset(filepath+'sensitivity/aug_minus2_d02_timemerge_regridera2d.nc') as aug_minus2:\n",
    "    aug_minus2T = aug_minus2.sel(latitude = slice(65,40), longitude = slice(-140, -100), XTIME = aug_minus2.XTIME[indices+48]).T2\n",
    "\n",
    "#CAM    \n",
    "with xr.open_dataset(filepath+\"new_dat/BIAS_FIXED/cam_radiation/june_d02_timemerge_cam_regridera.nc\") as june_cam:\n",
    "    june_camT = june_cam.sel(latitude = slice(65,40), longitude = slice(-140, -100), XTIME = june_cam.XTIME[indices]).T2\n",
    "    \n",
    "with xr.open_dataset(filepath+\"new_dat/BIAS_FIXED/cam_radiation/aug_d02_timemerge_cam_regridera.nc\") as aug_cam:\n",
    "    aug_camT = aug_cam.sel(latitude = slice(65,40), longitude = slice(-140, -100), XTIME = aug_cam.XTIME[indices]).T2\n",
    "    \n",
    "#NOAH LSM\n",
    "with xr.open_dataset(filepath+\"sensitivity/june_oldNOAHLSM-rrtmg_d02_timemerge_regridera2d.nc\") as june_lsm:\n",
    "    june_lsmT = june_lsm.sel(latitude = slice(65,40), longitude = slice(-140, -100), XTIME = june_lsm.XTIME[indices]).T2\n",
    "    \n",
    "with xr.open_dataset(filepath+\"sensitivity/aug_oldNOAHLSM-rrtmg_d02_timemerge_regridera2d.nc\") as aug_lsm:\n",
    "    aug_lsmT = aug_lsm.sel(latitude = slice(65,40), longitude = slice(-140, -100), XTIME = aug_lsm.XTIME[indices]).T2\n",
    "\n",
    "# #3D DATA\n",
    "june = xr.open_dataset(filepath+'new_dat/BIAS_FIXED/rrtmg_radiation/june_d02_reproj_rrtmg_regrid_3d.nc')\n",
    "july = xr.open_dataset(filepath+'new_dat/BIAS_FIXED/rrtmg_radiation/july_d02_reproj_rrtmg_regrid_3d.nc')\n",
    "aug = xr.open_dataset(filepath+'new_dat/BIAS_FIXED/rrtmg_radiation/aug_d02_reproj_rrtmg_regrid_3d.nc')\n",
    "\n",
    "sens_3d = xr.open_dataset(filepath+'new_dat/BIAS_FIXED/cam_radiation/june_d02_reproj_cam_regrid_3d.nc')\n"
   ]
  },
  {
   "cell_type": "markdown",
   "id": "040eec00",
   "metadata": {
    "heading_collapsed": true
   },
   "source": [
    "### Temperatures (Max and Mean)"
   ]
  },
  {
   "cell_type": "code",
   "execution_count": 102,
   "id": "4b5a98f6",
   "metadata": {
    "ExecuteTime": {
     "end_time": "2025-09-30T23:23:17.812523Z",
     "start_time": "2025-09-30T23:23:12.000869Z"
    },
    "code_folding": [
     0
    ],
    "hidden": true
   },
   "outputs": [
    {
     "name": "stdout",
     "output_type": "stream",
     "text": [
      "Area MEAN T: Control: 300.3737, +30day: 298.8914, +60day: 295.5611\n",
      "Differences in Area MEAN T: +30day: 1.4824, +60day: 4.8126\n",
      "Area MEAN TX: Control: 308.7329, +30day: 307.8606, +60day: 304.7537\n",
      "Differences in Area MEAN TX: +30day: 0.8723, +60day: 3.9792\n",
      "Area MAX TX: Control: 347.9872, +30day: 345.9691, +60day: 344.6182\n",
      "Differences in Area MAX TX: +30day: 2.018, +60day: 3.3689\n"
     ]
    }
   ],
   "source": [
    "## Main Runs\n",
    "lat1 = 48\n",
    "lat2 = 56\n",
    "lon1 = 236 - 360\n",
    "lon2 = 242 - 360\n",
    "\n",
    "#mean temperature\n",
    "june_T = june2d_bc.sel(latitude = slice(lat2,lat1), longitude = slice(lon1,lon2)).T2\n",
    "weights = np.cos(np.deg2rad(june_T.latitude))\n",
    "weighted_weights = weights/np.mean(weights)\n",
    "    \n",
    "temp = june_T.groupby('latitude')*weighted_weights\n",
    "june_meanT = temp.mean(dim = ['latitude', 'longitude','XTIME'])\n",
    "\n",
    "temp = (july2d_bc.sel(latitude = slice(lat2,lat1), longitude = slice(lon1,lon2)).T2).groupby('latitude')*weighted_weights\n",
    "july_meanT = temp.mean(dim = ['latitude', 'longitude','XTIME'])\n",
    "\n",
    "temp = (aug2d_bc.sel(latitude = slice(lat2,lat1), longitude = slice(lon1,lon2)).T2).groupby('latitude')*weighted_weights\n",
    "aug_meanT = temp.mean(dim = ['latitude', 'longitude','XTIME'])\n",
    "\n",
    "\n",
    "print(f'Area MEAN T: Control: {round(float(june_meanT.values),4)}, +30day: {round(float(july_meanT.values),4)}, +60day: {round(float(aug_meanT.values),4)}')\n",
    "print(f'Differences in Area MEAN T: +30day: {round(float(june_meanT.values - july_meanT.values),4)}, +60day: {round(float(june_meanT.values - aug_meanT.values),4)}')\n",
    "\n",
    "\n",
    "\n",
    "#heatwave maximum temperature  \n",
    "temp = (june2d_bc.sel(latitude = slice(lat2,lat1), longitude = slice(lon1,lon2)).T2).groupby('latitude')*weighted_weights\n",
    "june_TX = temp.mean(dim = ['latitude', 'longitude']).max(dim='XTIME')\n",
    "\n",
    "temp = (july2d_bc.sel(latitude = slice(lat2,lat1), longitude = slice(lon1,lon2)).T2).groupby('latitude')*weighted_weights\n",
    "july_TX = temp.mean(dim = ['latitude', 'longitude']).max(dim='XTIME')\n",
    "\n",
    "temp = (aug2d_bc.sel(latitude = slice(lat2,lat1), longitude = slice(lon1,lon2)).T2).groupby('latitude')*weighted_weights\n",
    "aug_TX = temp.mean(dim = ['latitude', 'longitude']).max(dim='XTIME')\n",
    "\n",
    "\n",
    "print(f'Area MEAN TX: Control: {round(float(june_TX.values),4)}, +30day: {round(float(july_TX.values),4)}, +60day: {round(float(aug_TX.values),4)}')\n",
    "print(f'Differences in Area MEAN TX: +30day: {round(float(june_TX.values - july_TX.values),4)}, +60day: {round(float(june_TX.values - aug_TX.values),4)}')\n",
    "\n",
    "\n",
    "#heatwave maximum temperature  \n",
    "temp = (june2d_bc.sel(latitude = slice(lat2,lat1), longitude = slice(lon1,lon2)).T2).groupby('latitude')*weighted_weights\n",
    "june_TXX = temp.max(dim = ['latitude', 'longitude']).max(dim='XTIME')\n",
    "\n",
    "temp = (july2d_bc.sel(latitude = slice(lat2,lat1), longitude = slice(lon1,lon2)).T2).groupby('latitude')*weighted_weights\n",
    "july_TXX = temp.max(dim = ['latitude', 'longitude']).max(dim='XTIME')\n",
    "\n",
    "temp = (aug2d_bc.sel(latitude = slice(lat2,lat1), longitude = slice(lon1,lon2)).T2).groupby('latitude')*weighted_weights\n",
    "aug_TXX = temp.max(dim = ['latitude', 'longitude']).max(dim='XTIME')\n",
    "\n",
    "\n",
    "print(f'Area MAX TX: Control: {round(float(june_TXX.values),4)}, +30day: {round(float(july_TXX.values),4)}, +60day: {round(float(aug_TXX.values),4)}')\n",
    "print(f'Differences in Area MAX TX: +30day: {round(float(june_TXX - july_TXX.values),4)}, +60day: {round(float(june_TXX - aug_TXX.values),4)}')\n",
    "\n"
   ]
  },
  {
   "cell_type": "code",
   "execution_count": 103,
   "id": "8b113fff",
   "metadata": {
    "ExecuteTime": {
     "end_time": "2025-09-30T23:31:17.973036Z",
     "start_time": "2025-09-30T23:31:07.343478Z"
    },
    "code_folding": [
     0
    ],
    "hidden": true
   },
   "outputs": [
    {
     "name": "stdout",
     "output_type": "stream",
     "text": [
      "Area MEAN T: Control: 302.7403, +30day: 301.3001, +60day: 298.12\n",
      "Differences in Area MEAN T: +30day: 1.4402, +60day: 4.6203\n",
      "Area MEAN TX: Control: 311.3573, +30day: 310.2595, +60day: 307.4452\n",
      "Differences in Area MEAN TX: +30day: 1.0978, +60day: 3.9121\n",
      "Area MAX TX: Control: 342.9147, +30day: 342.3266, +60day: 339.0869\n",
      "Differences in Area MAX TX: +30day: 0.5881, +60day: 3.8278\n"
     ]
    }
   ],
   "source": [
    "## Sensitivity to Heatwave box definition: Main Runs\n",
    "lat1 = 45\n",
    "lat2 = 52\n",
    "lon1 = 237 - 360\n",
    "lon2 = 241 - 360\n",
    "\n",
    "#mean temperature\n",
    "june_T = june2d_bc.sel(latitude = slice(lat2,lat1), longitude = slice(lon1,lon2)).T2\n",
    "weights = np.cos(np.deg2rad(june_T.latitude))\n",
    "weighted_weights = weights/np.mean(weights)\n",
    "    \n",
    "temp = june_T.groupby('latitude')*weighted_weights\n",
    "june_meanT = temp.mean(dim = ['latitude', 'longitude','XTIME'])\n",
    "\n",
    "temp = (july2d_bc.sel(latitude = slice(lat2,lat1), longitude = slice(lon1,lon2)).T2).groupby('latitude')*weighted_weights\n",
    "july_meanT = temp.mean(dim = ['latitude', 'longitude','XTIME'])\n",
    "\n",
    "temp = (aug2d_bc.sel(latitude = slice(lat2,lat1), longitude = slice(lon1,lon2)).T2).groupby('latitude')*weighted_weights\n",
    "aug_meanT = temp.mean(dim = ['latitude', 'longitude','XTIME'])\n",
    "\n",
    "\n",
    "print(f'Area MEAN T: Control: {round(float(june_meanT.values),4)}, +30day: {round(float(july_meanT.values),4)}, +60day: {round(float(aug_meanT.values),4)}')\n",
    "print(f'Differences in Area MEAN T: +30day: {round(float(june_meanT.values - july_meanT.values),4)}, +60day: {round(float(june_meanT.values - aug_meanT.values),4)}')\n",
    "\n",
    "\n",
    "\n",
    "#heatwave maximum temperature  \n",
    "temp = (june2d_bc.sel(latitude = slice(lat2,lat1), longitude = slice(lon1,lon2)).T2).groupby('latitude')*weighted_weights\n",
    "june_TX = temp.mean(dim = ['latitude', 'longitude']).max(dim='XTIME')\n",
    "\n",
    "temp = (july2d_bc.sel(latitude = slice(lat2,lat1), longitude = slice(lon1,lon2)).T2).groupby('latitude')*weighted_weights\n",
    "july_TX = temp.mean(dim = ['latitude', 'longitude']).max(dim='XTIME')\n",
    "\n",
    "temp = (aug2d_bc.sel(latitude = slice(lat2,lat1), longitude = slice(lon1,lon2)).T2).groupby('latitude')*weighted_weights\n",
    "aug_TX = temp.mean(dim = ['latitude', 'longitude']).max(dim='XTIME')\n",
    "\n",
    "\n",
    "print(f'Area MEAN TX: Control: {round(float(june_TX.values),4)}, +30day: {round(float(july_TX.values),4)}, +60day: {round(float(aug_TX.values),4)}')\n",
    "print(f'Differences in Area MEAN TX: +30day: {round(float(june_TX.values - july_TX.values),4)}, +60day: {round(float(june_TX.values - aug_TX.values),4)}')\n",
    "\n",
    "\n",
    "#heatwave maximum temperature  \n",
    "temp = (june2d_bc.sel(latitude = slice(lat2,lat1), longitude = slice(lon1,lon2)).T2).groupby('latitude')*weighted_weights\n",
    "june_TXX = temp.max(dim = ['latitude', 'longitude']).max(dim='XTIME')\n",
    "\n",
    "temp = (july2d_bc.sel(latitude = slice(lat2,lat1), longitude = slice(lon1,lon2)).T2).groupby('latitude')*weighted_weights\n",
    "july_TXX = temp.max(dim = ['latitude', 'longitude']).max(dim='XTIME')\n",
    "\n",
    "temp = (aug2d_bc.sel(latitude = slice(lat2,lat1), longitude = slice(lon1,lon2)).T2).groupby('latitude')*weighted_weights\n",
    "aug_TXX = temp.max(dim = ['latitude', 'longitude']).max(dim='XTIME')\n",
    "\n",
    "\n",
    "print(f'Area MAX TX: Control: {round(float(june_TXX.values),4)}, +30day: {round(float(july_TXX.values),4)}, +60day: {round(float(aug_TXX.values),4)}')\n",
    "print(f'Differences in Area MAX TX: +30day: {round(float(june_TXX - july_TXX.values),4)}, +60day: {round(float(june_TXX - aug_TXX.values),4)}')\n"
   ]
  },
  {
   "cell_type": "code",
   "execution_count": 118,
   "id": "d6056248",
   "metadata": {
    "ExecuteTime": {
     "end_time": "2025-10-01T00:02:23.454235Z",
     "start_time": "2025-10-01T00:02:21.118531Z"
    },
    "code_folding": [],
    "hidden": true
   },
   "outputs": [
    {
     "name": "stdout",
     "output_type": "stream",
     "text": [
      "default\n",
      "Differences in Area MEAN T: +60day: 4.8126\n",
      "lsm\n",
      "Differences in Area MEAN T: +60day: 4.4463\n",
      "cam\n",
      "Differences in Area MEAN T: +60day: 4.7992\n",
      "minus 2\n",
      "Differences in Area MEAN T: +60day: 3.9191\n",
      "\n",
      "default\n",
      "Differences in Area MEAN TX: +60day: 3.9792\n",
      "lsm\n",
      "Differences in Area MEAN T: +60day: 4.1637\n",
      "cam\n",
      "Differences in Area MEAN T: +60day: 4.5511\n",
      "minus 2\n",
      "Differences in Area MEAN T: +60day: 3.8743\n"
     ]
    }
   ],
   "source": [
    "# Sensitivity studies\n",
    "lat1 = 48\n",
    "lat2 = 56\n",
    "lon1 = 236 - 360\n",
    "lon2 = 242 - 360\n",
    "\n",
    "#mean temperature\n",
    "june_T = june2d_bc.sel(latitude = slice(lat2,lat1), longitude = slice(lon1,lon2)).T2\n",
    "weights = np.cos(np.deg2rad(june_T.latitude))\n",
    "weighted_weights = weights/np.mean(weights)\n",
    "  \n",
    "temp = june_T.groupby('latitude')*weighted_weights\n",
    "june_meanT = temp.mean(dim = ['latitude', 'longitude','XTIME'])\n",
    "\n",
    "temp = (aug2d_bc.sel(latitude = slice(lat2,lat1), longitude = slice(lon1,lon2)).T2).groupby('latitude')*weighted_weights\n",
    "aug_meanT = temp.mean(dim = ['latitude', 'longitude','XTIME'])\n",
    "\n",
    "print('default')\n",
    "print(f'Differences in Area MEAN T: +60day: {round(float(june_meanT.values - aug_meanT.values),4)}')\n",
    "\n",
    "temp = june_lsmT.sel(latitude = slice(lat2,lat1), longitude = slice(lon1,lon2)).groupby('latitude')*weighted_weights\n",
    "june_meanT = temp.mean(dim = ['latitude', 'longitude','XTIME'])\n",
    "\n",
    "temp = aug_lsmT.sel(latitude = slice(lat2,lat1), longitude = slice(lon1,lon2)).groupby('latitude')*weighted_weights\n",
    "aug_meanT = temp.mean(dim = ['latitude', 'longitude','XTIME'])\n",
    "\n",
    "print('lsm')\n",
    "print(f'Differences in Area MEAN T: +60day: {round(float(june_meanT.values - aug_meanT.values),4)}')\n",
    "\n",
    "temp = june_camT.sel(latitude = slice(lat2,lat1), longitude = slice(lon1,lon2)).groupby('latitude')*weighted_weights\n",
    "june_meanT = temp.mean(dim = ['latitude', 'longitude','XTIME'])\n",
    "\n",
    "temp = aug_camT.sel(latitude = slice(lat2,lat1), longitude = slice(lon1,lon2)).groupby('latitude')*weighted_weights\n",
    "aug_meanT = temp.mean(dim = ['latitude', 'longitude','XTIME'])\n",
    "\n",
    "print('cam')\n",
    "print(f'Differences in Area MEAN T: +60day: {round(float(june_meanT.values - aug_meanT.values),4)}')\n",
    "\n",
    "temp = june_minus2T.sel(latitude = slice(lat2,lat1), longitude = slice(lon1,lon2)).groupby('latitude')*weighted_weights\n",
    "june_meanT = temp.mean(dim = ['latitude', 'longitude','XTIME'])\n",
    "\n",
    "temp = aug_minus2T.sel(latitude = slice(lat2,lat1), longitude = slice(lon1,lon2)).groupby('latitude')*weighted_weights\n",
    "aug_meanT = temp.mean(dim = ['latitude', 'longitude','XTIME'])\n",
    "\n",
    "print('minus 2')\n",
    "print(f'Differences in Area MEAN T: +60day: {round(float(june_meanT.values - aug_meanT.values),4)}')\n",
    "\n",
    "\n",
    "#max temperature\n",
    "\n",
    "#heatwave maximum temperature  \n",
    "temp = (june2d_bc.sel(latitude = slice(lat2,lat1), longitude = slice(lon1,lon2)).T2).groupby('latitude')*weighted_weights\n",
    "june_meanTX = temp.mean(dim = ['latitude', 'longitude']).max(dim='XTIME')\n",
    "\n",
    "temp = (aug2d_bc.sel(latitude = slice(lat2,lat1), longitude = slice(lon1,lon2)).T2).groupby('latitude')*weighted_weights\n",
    "aug_meanTX = temp.mean(dim = ['latitude', 'longitude']).max(dim='XTIME')\n",
    "\n",
    "print('')\n",
    "print('default')\n",
    "print(f'Differences in Area MEAN TX: +60day: {round(float(june_meanTX.values - aug_meanTX.values),4)}')\n",
    "\n",
    "\n",
    "june_T = june_minus2T.sel(latitude = slice(lat2,lat1), longitude = slice(lon1,lon2))\n",
    "weights = np.cos(np.deg2rad(june_T.latitude))\n",
    "weighted_weights = weights/np.mean(weights)\n",
    "    \n",
    "temp = june_lsmT.sel(latitude = slice(lat2,lat1), longitude = slice(lon1,lon2)).groupby('latitude')*weighted_weights\n",
    "june_meanTX = temp.mean(dim = ['latitude', 'longitude']).max('XTIME')\n",
    "\n",
    "temp = aug_lsmT.sel(latitude = slice(lat2,lat1), longitude = slice(lon1,lon2)).groupby('latitude')*weighted_weights\n",
    "aug_meanTX = temp.mean(dim = ['latitude', 'longitude']).max('XTIME')\n",
    "\n",
    "print('lsm')\n",
    "print(f'Differences in Area MEAN T: +60day: {round(float(june_meanTX.values - aug_meanTX.values),4)}')\n",
    "\n",
    "temp = june_camT.sel(latitude = slice(lat2,lat1), longitude = slice(lon1,lon2)).groupby('latitude')*weighted_weights\n",
    "june_meanTX = temp.mean(dim = ['latitude', 'longitude']).max('XTIME')\n",
    "\n",
    "temp = aug_camT.sel(latitude = slice(lat2,lat1), longitude = slice(lon1,lon2)).groupby('latitude')*weighted_weights\n",
    "aug_meanTX = temp.mean(dim = ['latitude', 'longitude']).max('XTIME')\n",
    "\n",
    "print('cam')\n",
    "print(f'Differences in Area MEAN T: +60day: {round(float(june_meanTX.values - aug_meanTX.values),4)}')\n",
    "\n",
    "temp = june_minus2T.sel(latitude = slice(lat2,lat1), longitude = slice(lon1,lon2)).groupby('latitude')*weighted_weights\n",
    "june_meanTX = temp.mean(dim = ['latitude', 'longitude']).max('XTIME')\n",
    "\n",
    "temp = aug_minus2T.sel(latitude = slice(lat2,lat1), longitude = slice(lon1,lon2)).groupby('latitude')*weighted_weights\n",
    "aug_meanTX = temp.mean(dim = ['latitude', 'longitude']).max('XTIME')\n",
    "\n",
    "print('minus 2')\n",
    "print(f'Differences in Area MEAN T: +60day: {round(float(june_meanTX.values - aug_meanTX.values),4)}')\n",
    "\n"
   ]
  },
  {
   "cell_type": "markdown",
   "id": "a9592c12",
   "metadata": {
    "heading_collapsed": true
   },
   "source": [
    "### Radiation"
   ]
  },
  {
   "cell_type": "code",
   "execution_count": 106,
   "id": "ca45a71c",
   "metadata": {
    "ExecuteTime": {
     "end_time": "2025-09-30T23:33:08.052310Z",
     "start_time": "2025-09-30T23:33:06.240592Z"
    },
    "code_folding": [
     0
    ],
    "hidden": true
   },
   "outputs": [
    {
     "name": "stdout",
     "output_type": "stream",
     "text": [
      "MEAN RADIATION: Control: 360.2941, +30day: 328.041, +60day: 259.9812\n",
      "MEAN RADIATION differences: +30day: -32.2531\n",
      "MEAN RADIATION differences: +60day: -100.3129\n"
     ]
    }
   ],
   "source": [
    "## Main Runs\n",
    "\n",
    "lat1 = 48\n",
    "lat2 = 56\n",
    "lon1 = 236 - 360\n",
    "lon2 = 242 - 360\n",
    "\n",
    "#mean temperature\n",
    "june_T = june2d_bc.sel(latitude = slice(lat2,lat1), longitude = slice(lon1,lon2)).SWDNB\n",
    "weights = np.cos(np.deg2rad(june_T.latitude))\n",
    "weighted_weights = weights/np.mean(weights)\n",
    "    \n",
    "temp = june_T.groupby('latitude')*weighted_weights\n",
    "june_meanRad = temp.mean(dim = ['latitude', 'longitude','XTIME'])\n",
    "\n",
    "temp = (july2d_bc.sel(latitude = slice(lat2,lat1), longitude = slice(lon1,lon2)).SWDNB).groupby('latitude')*weighted_weights\n",
    "july_meanRad = temp.mean(dim = ['latitude', 'longitude','XTIME'])\n",
    "\n",
    "temp = (aug2d_bc.sel(latitude = slice(lat2,lat1), longitude = slice(lon1,lon2)).SWDNB).groupby('latitude')*weighted_weights\n",
    "aug_meanRad = temp.mean(dim = ['latitude', 'longitude','XTIME'])\n",
    "\n",
    "print(f'MEAN RADIATION: Control: {round(float(june_meanRad.values),4)}, +30day: {round(float(july_meanRad.values),4)}, +60day: {round(float(aug_meanRad.values),4)}')\n",
    "print(f'MEAN RADIATION differences: +30day: {round(float((july_meanRad.values -june_meanRad.values)),4)}')\n",
    "print(f'MEAN RADIATION differences: +60day: {round(float((aug_meanRad.values -june_meanRad.values)),4)}')\n"
   ]
  },
  {
   "cell_type": "markdown",
   "id": "8f76b263",
   "metadata": {
    "heading_collapsed": true
   },
   "source": [
    "### Records"
   ]
  },
  {
   "cell_type": "code",
   "execution_count": 87,
   "id": "3bfcab55",
   "metadata": {
    "ExecuteTime": {
     "end_time": "2025-09-30T22:21:15.188142Z",
     "start_time": "2025-09-30T22:21:13.874732Z"
    },
    "code_folding": [
     0
    ],
    "hidden": true
   },
   "outputs": [
    {
     "name": "stdout",
     "output_type": "stream",
     "text": [
      "TOTAL RECORD EXCEEDANCE: Control: 1401198.0, +30day: 1062812.0, +60day: 294851.0\n",
      "+30 decrease: 0.24\n",
      "+60 decrease: 0.79\n",
      "TOTAL RECORD EXCEEDANCE: Control: 504969.0, +30day: 271622.0, +60day: 28190.0\n",
      "+30 decrease: 0.46\n",
      "+60 decrease: 0.94\n"
     ]
    }
   ],
   "source": [
    "##Main Runs\n",
    "rlat1 = 40\n",
    "rlat2 = 60\n",
    "rlon1=-130\n",
    "rlon2=-110\n",
    "\n",
    "records_broken = (era_test_hw - era_daily_max_PNW)\n",
    "\n",
    "#find maximum temperature at each gridpoint\n",
    "june_max = june2d_bc.max(dim = 'XTIME').T2\n",
    "july_max = july2d_bc.max(dim = 'XTIME').T2\n",
    "aug_max = aug2d_bc.max(dim = 'XTIME').T2\n",
    "#(any record exceedance)\n",
    "june_area0, june_mask2 = records_area(records_broken, june_max, june_max, 0,filepath+'area_gridera.nc', \n",
    "                                      mask,rlat1,rlat2,rlon1,rlon2)\n",
    "july_area0 ,july_mask2= records_area(records_broken, june_max, july_max, 0,filepath+'area_gridera.nc', \n",
    "                                      mask,rlat1,rlat2,rlon1,rlon2)\n",
    "aug_area0, aug_mask2 = records_area(records_broken, june_max, aug_max, 0,filepath+'area_gridera.nc', \n",
    "                                     mask,rlat1,rlat2,rlon1,rlon2)\n",
    "print(f'TOTAL RECORD EXCEEDANCE: Control: {round(float(june_area0.values),0)}, +30day: {round(float(july_area0.values),0)}, +60day: {round(float(aug_area0.values),0)}')\n",
    "print(f'+30 decrease: {round(float((june_area0-july_area0)/june_area0),2)}')\n",
    "print(f'+60 decrease: {round(float((june_area0-aug_area0)/june_area0),2)}')\n",
    "\n",
    "#3 degree record exceedance\n",
    "#(any record exceedance)\n",
    "june_area3, june_mask2 = records_area(records_broken, june_max, june_max, 3,filepath+'area_gridera.nc', \n",
    "                                      mask,rlat1,rlat2,rlon1,rlon2)\n",
    "july_area3 ,july_mask2= records_area(records_broken, june_max, july_max, 3,filepath+'area_gridera.nc', \n",
    "                                      mask,rlat1,rlat2,rlon1,rlon2)\n",
    "aug_area3, aug_mask2 = records_area(records_broken, june_max, aug_max, 3,filepath+'area_gridera.nc', \n",
    "                                      mask,rlat1,rlat2,rlon1,rlon2)\n",
    "\n",
    "print(f'TOTAL RECORD EXCEEDANCE: Control: {round(float(june_area3.values),0)}, +30day: {round(float(july_area3.values),0)}, +60day: {round(float(aug_area3.values),0)}')\n",
    "print(f'+30 decrease: {round(float((june_area3-july_area3)/june_area3),2)}')\n",
    "print(f'+60 decrease: {round(float((june_area3-aug_area3)/june_area3),2)}')\n"
   ]
  },
  {
   "cell_type": "code",
   "execution_count": 86,
   "id": "554c8f44",
   "metadata": {
    "ExecuteTime": {
     "end_time": "2025-09-30T22:20:54.762422Z",
     "start_time": "2025-09-30T22:20:53.386416Z"
    },
    "code_folding": [
     0
    ],
    "hidden": true
   },
   "outputs": [
    {
     "name": "stdout",
     "output_type": "stream",
     "text": [
      "TOTAL RECORD EXCEEDANCE: Control: 1760675.0, +30day: 1324528.0, +60day: 335675.0\n",
      "+30 decrease: 0.25\n",
      "+60 decrease: 0.81\n",
      "TOTAL RECORD EXCEEDANCE: Control: 594239.0, +30day: 320508.0, +60day: 28963.0\n",
      "+30 decrease: 0.46\n",
      "+60 decrease: 0.95\n"
     ]
    }
   ],
   "source": [
    "##Main Runs - sensitivity to region\n",
    "rlat1 = 40\n",
    "rlat2 = 65\n",
    "rlon1=-135\n",
    "rlon2=-105\n",
    "\n",
    "records_broken = (era_test_hw - era_daily_max_PNW)\n",
    "\n",
    "#find maximum temperature at each gridpoint\n",
    "june_max = june2d_bc.max(dim = 'XTIME').T2\n",
    "july_max = july2d_bc.max(dim = 'XTIME').T2\n",
    "aug_max = aug2d_bc.max(dim = 'XTIME').T2\n",
    "#(any record exceedance)\n",
    "june_area0, june_mask2 = records_area(records_broken, june_max, june_max, 0,filepath+'area_gridera.nc', \n",
    "                                      mask,rlat1,rlat2,rlon1,rlon2)\n",
    "july_area0 ,july_mask2= records_area(records_broken, june_max, july_max, 0,filepath+'area_gridera.nc', \n",
    "                                      mask,rlat1,rlat2,rlon1,rlon2)\n",
    "aug_area0, aug_mask2 = records_area(records_broken, june_max, aug_max, 0,filepath+'area_gridera.nc', \n",
    "                                     mask,rlat1,rlat2,rlon1,rlon2)\n",
    "print(f'TOTAL RECORD EXCEEDANCE: Control: {round(float(june_area0.values),0)}, +30day: {round(float(july_area0.values),0)}, +60day: {round(float(aug_area0.values),0)}')\n",
    "print(f'+30 decrease: {round(float((june_area0-july_area0)/june_area0),2)}')\n",
    "print(f'+60 decrease: {round(float((june_area0-aug_area0)/june_area0),2)}')\n",
    "\n",
    "#3 degree record exceedance\n",
    "#(any record exceedance)\n",
    "june_area3, june_mask2 = records_area(records_broken, june_max, june_max, 3,filepath+'area_gridera.nc', \n",
    "                                      mask,rlat1,rlat2,rlon1,rlon2)\n",
    "july_area3 ,july_mask2= records_area(records_broken, june_max, july_max, 3,filepath+'area_gridera.nc', \n",
    "                                      mask,rlat1,rlat2,rlon1,rlon2)\n",
    "aug_area3, aug_mask2 = records_area(records_broken, june_max, aug_max, 3,filepath+'area_gridera.nc', \n",
    "                                      mask,rlat1,rlat2,rlon1,rlon2)\n",
    "\n",
    "print(f'TOTAL RECORD EXCEEDANCE: Control: {round(float(june_area3.values),0)}, +30day: {round(float(july_area3.values),0)}, +60day: {round(float(aug_area3.values),0)}')\n",
    "print(f'+30 decrease: {round(float((june_area3-july_area3)/june_area3),2)}')\n",
    "print(f'+60 decrease: {round(float((june_area3-aug_area3)/june_area3),2)}')\n"
   ]
  },
  {
   "cell_type": "code",
   "execution_count": 91,
   "id": "62fddb6b",
   "metadata": {
    "ExecuteTime": {
     "end_time": "2025-09-30T22:27:00.403795Z",
     "start_time": "2025-09-30T22:27:00.009958Z"
    },
    "code_folding": [
     0
    ],
    "hidden": true
   },
   "outputs": [
    {
     "name": "stdout",
     "output_type": "stream",
     "text": [
      "TOTAL RECORD EXCEEDANCE: Minus 2: 303384.0236, CAM: 263082.1082, NOAH: 261648.8509\n",
      "+60 decrease default: 0.79\n",
      "+60 decrease area: 0.78\n",
      "+60 decrease cam: 0.81\n",
      "+60 decrease lsm: 0.81\n"
     ]
    }
   ],
   "source": [
    "##sensitivity studies\n",
    "rlat1 = 40\n",
    "rlat2 = 60\n",
    "rlon1=-130\n",
    "rlon2=-110\n",
    "\n",
    "june_minus2_max = june_minus2T.max(dim = 'XTIME')\n",
    "june_cam_max = june_camT.max(dim = 'XTIME')\n",
    "june_lsm_max = june_lsmT.max(dim = 'XTIME')\n",
    "\n",
    "aug_minus2_max = aug_minus2T.max(dim = 'XTIME')\n",
    "aug_cam_max = aug_camT.max(dim = 'XTIME')\n",
    "aug_lsm_max = aug_lsmT.max(dim = 'XTIME')\n",
    "\n",
    "#(any record exceedance)\n",
    "\n",
    "minus2_area0, a = records_area(records_broken, june_minus2_max, aug_minus2_max, 0,filepath+'area_gridera.nc',\n",
    "                               mask,rlat1,rlat2,rlon1,rlon2)\n",
    "cam_area0 ,b= records_area(records_broken, june_cam_max, aug_cam_max, 0,filepath+'area_gridera.nc', \n",
    "                               mask,rlat1,rlat2,rlon1,rlon2)\n",
    "lsm_area0, c = records_area(records_broken, june_lsm_max, aug_lsm_max, 0,filepath+'area_gridera.nc', \n",
    "                               mask,rlat1,rlat2,rlon1,rlon2)\n",
    "\n",
    "CTL_area0, june_mask2 = records_area(records_broken, june_max, june_max, 0,filepath+'area_gridera.nc', \n",
    "                                      mask,rlat1,rlat2,rlon1,rlon2)\n",
    "DEF_area0, june_mask2 = records_area(records_broken, june_max, aug_max, 0,filepath+'area_gridera.nc', \n",
    "                                      mask,rlat1,rlat2,rlon1,rlon2)\n",
    "\n",
    "\n",
    "print(f'TOTAL RECORD EXCEEDANCE: Minus 2: {round(float(minus2_area0.values),4)}, CAM: {round(float(cam_area0.values),4)}, NOAH: {round(float(lsm_area0.values),4)}')\n",
    "\n",
    "print(f'+60 decrease default: {round(float((CTL_area0-DEF_area0)/CTL_area0),2)}')\n",
    "print(f'+60 decrease area: {round(float((CTL_area0-minus2_area0)/CTL_area0),2)}')\n",
    "print(f'+60 decrease cam: {round(float((CTL_area0-cam_area0)/CTL_area0),2)}')\n",
    "print(f'+60 decrease lsm: {round(float((CTL_area0-lsm_area0)/CTL_area0),2)}')\n"
   ]
  },
  {
   "cell_type": "markdown",
   "id": "f6fd20b8",
   "metadata": {
    "heading_collapsed": true
   },
   "source": [
    "### GPH comparison (CTRL and CAM Rad)"
   ]
  },
  {
   "cell_type": "code",
   "execution_count": 13,
   "id": "632b1807",
   "metadata": {
    "hidden": true
   },
   "outputs": [],
   "source": [
    "rrtmg_gph = june.sel(lat = slice(45,52), lon = slice(-123,-119), Time = june.Time[indices], level = 500).gph\n",
    "cam_gph = sens_3d.sel(lat = slice(45,52), lon = slice(-123,-119), Time = june.Time[indices], level = 500).gph\n",
    "diff_sensgph = rrtmg_gph.mean(dim = \"Time\") - cam_gph.mean(dim = \"Time\")\n",
    "\n",
    "july_gph = july.sel(lat = slice(45,52), lon = slice(-123,-119), Time = july.Time[indices], level = 500).gph\n",
    "diff_months = rrtmg_gph.mean(dim = \"Time\") - july_gph.mean(dim = \"Time\")"
   ]
  },
  {
   "cell_type": "code",
   "execution_count": 14,
   "id": "af0d7992",
   "metadata": {
    "hidden": true
   },
   "outputs": [
    {
     "data": {
      "text/plain": [
       "<matplotlib.collections.QuadMesh at 0x7f928e3ea270>"
      ]
     },
     "execution_count": 14,
     "metadata": {},
     "output_type": "execute_result"
    },
    {
     "data": {
      "image/png": "[encoded data removed]",
      "text/plain": [
       "<Figure size 640x480 with 2 Axes>"
      ]
     },
     "metadata": {},
     "output_type": "display_data"
    }
   ],
   "source": [
    "diff_sensgph.plot()"
   ]
  },
  {
   "cell_type": "code",
   "execution_count": 15,
   "id": "3c48ecbf",
   "metadata": {
    "hidden": true
   },
   "outputs": [
    {
     "data": {
      "text/plain": [
       "<matplotlib.collections.QuadMesh at 0x7f928c8df9d0>"
      ]
     },
     "execution_count": 15,
     "metadata": {},
     "output_type": "execute_result"
    },
    {
     "data": {
      "image/png": "[encoded data removed]",
      "text/plain": [
       "<Figure size 640x480 with 2 Axes>"
      ]
     },
     "metadata": {},
     "output_type": "display_data"
    }
   ],
   "source": [
    "diff_months.plot()"
   ]
  },
  {
   "cell_type": "code",
   "execution_count": null,
   "id": "133f1199",
   "metadata": {
    "hidden": true
   },
   "outputs": [],
   "source": []
  }
 ],
 "metadata": {
  "kernelspec": {
   "display_name": "RHW_py3_2",
   "language": "python",
   "name": "rhw_py3_2"
  },
  "language_info": {
   "codemirror_mode": {
    "name": "ipython",
    "version": 3
   },
   "file_extension": ".py",
   "mimetype": "text/x-python",
   "name": "python",
   "nbconvert_exporter": "python",
   "pygments_lexer": "ipython3",
   "version": "3.7.11"
  }
 },
 "nbformat": 4,
 "nbformat_minor": 5
}
